{
 "cells": [
  {
   "metadata": {},
   "cell_type": "markdown",
   "source": "Loading Data",
   "id": "75b8d3ef8dad427e"
  },
  {
   "metadata": {
    "collapsed": true,
    "ExecuteTime": {
     "end_time": "2024-11-20T09:21:44.207322Z",
     "start_time": "2024-11-20T09:21:38.777327Z"
    }
   },
   "cell_type": "code",
   "source": [
    "import pandas as pd\n",
    "import json"
   ],
   "id": "initial_id",
   "outputs": [],
   "execution_count": 57
  },
  {
   "metadata": {
    "ExecuteTime": {
     "end_time": "2024-11-20T09:22:53.525764Z",
     "start_time": "2024-11-20T09:21:44.216015Z"
    }
   },
   "cell_type": "code",
   "source": [
    "# Load CSV files\n",
    "transactions = pd.read_csv(\"transactions_data.csv\")\n",
    "cards = pd.read_csv(\"cards_data.csv\")\n",
    "users = pd.read_csv(\"users_data.csv\")\n",
    "\n",
    "# Load JSON files\n",
    "with open(\"mcc_codes.json\") as f:\n",
    "    mcc_codes_data = json.load(f)\n",
    "mcc_codes = pd.DataFrame(list(mcc_codes_data.items()), columns=[\"mcc_code\", \"description\"])\n",
    "with open(\"train_fraud_labels.json\") as f:\n",
    "    fraud_labels = json.load(f)\n",
    "fraud_labels = pd.DataFrame(list(fraud_labels[\"target\"].items()), columns=[\"id\", \"isFraud\"])"
   ],
   "id": "741e6d695a42d672",
   "outputs": [],
   "execution_count": 58
  },
  {
   "metadata": {},
   "cell_type": "markdown",
   "source": "Merging datasets",
   "id": "83da741a5b5b6660"
  },
  {
   "metadata": {
    "ExecuteTime": {
     "end_time": "2024-11-20T09:22:54.879652Z",
     "start_time": "2024-11-20T09:22:53.927878Z"
    }
   },
   "cell_type": "code",
   "source": [
    "fraud_labels['id'] = fraud_labels['id'].astype(int)\n",
    "cards.rename(columns={'id': 'card_id'}, inplace=True)\n",
    "users.rename(columns={'id': 'client_id'}, inplace=True)\n",
    "mcc_codes.rename(columns={'mcc_code': 'mcc'}, inplace=True)\n",
    "mcc_codes['mcc'] = mcc_codes['mcc'].astype(int)"
   ],
   "id": "9d23cbf8291284f5",
   "outputs": [],
   "execution_count": 59
  },
  {
   "metadata": {
    "ExecuteTime": {
     "end_time": "2024-11-20T09:25:31.492518Z",
     "start_time": "2024-11-20T09:22:54.879652Z"
    }
   },
   "cell_type": "code",
   "source": [
    "# Merge transaction data with fraud labels\n",
    "transactions = transactions.merge(fraud_labels, on=\"id\", how=\"left\")\n",
    "\n",
    "# Merge card data\n",
    "transactions = transactions.merge(cards, on=[\"card_id\",\"client_id\"], how=\"left\")\n",
    "\n",
    "# Merge user data\n",
    "transactions = transactions.merge(users, on=\"client_id\", how=\"left\")\n",
    "\n",
    "# Add MCC codes\n",
    "transactions = transactions.merge(mcc_codes, on=\"mcc\", how=\"left\")"
   ],
   "id": "101b994dab838040",
   "outputs": [],
   "execution_count": 60
  },
  {
   "metadata": {
    "ExecuteTime": {
     "end_time": "2024-11-20T09:27:57.822915Z",
     "start_time": "2024-11-20T09:25:31.988196Z"
    }
   },
   "cell_type": "code",
   "source": "transactions.to_csv(\"merged_transactions.csv\", index=False)",
   "id": "7d94d321764d817f",
   "outputs": [],
   "execution_count": 61
  },
  {
   "metadata": {},
   "cell_type": "markdown",
   "source": "Investigating dataset summary & fixing missing values",
   "id": "1b9e1bb397f90457"
  },
  {
   "metadata": {
    "ExecuteTime": {
     "end_time": "2024-11-20T09:32:26.284218Z",
     "start_time": "2024-11-20T09:27:57.881229Z"
    }
   },
   "cell_type": "code",
   "source": [
    "transactions = pd.read_csv(\"merged_transactions.csv\")\n",
    "# Check general info\n",
    "print(transactions.info())\n",
    "\n",
    "# Check for missing values\n",
    "print(transactions.isnull().sum())\n",
    "\n",
    "# View the first few rows\n",
    "print(transactions.head())\n",
    "\n",
    "# Check unique values in categorical columns\n",
    "print(transactions[['card_brand', 'card_type', 'gender', 'isFraud']].nunique())"
   ],
   "id": "414d1cf6e2f843a3",
   "outputs": [
    {
     "name": "stdout",
     "output_type": "stream",
     "text": [
      "<class 'pandas.core.frame.DataFrame'>\n",
      "RangeIndex: 13305915 entries, 0 to 13305914\n",
      "Data columns (total 38 columns):\n",
      " #   Column                 Dtype  \n",
      "---  ------                 -----  \n",
      " 0   id                     int64  \n",
      " 1   date                   object \n",
      " 2   client_id              int64  \n",
      " 3   card_id                int64  \n",
      " 4   amount                 object \n",
      " 5   use_chip               object \n",
      " 6   merchant_id            int64  \n",
      " 7   merchant_city          object \n",
      " 8   merchant_state         object \n",
      " 9   zip                    float64\n",
      " 10  mcc                    int64  \n",
      " 11  errors                 object \n",
      " 12  isFraud                object \n",
      " 13  card_brand             object \n",
      " 14  card_type              object \n",
      " 15  card_number            int64  \n",
      " 16  expires                object \n",
      " 17  cvv                    int64  \n",
      " 18  has_chip               object \n",
      " 19  num_cards_issued       int64  \n",
      " 20  credit_limit           object \n",
      " 21  acct_open_date         object \n",
      " 22  year_pin_last_changed  int64  \n",
      " 23  card_on_dark_web       object \n",
      " 24  current_age            int64  \n",
      " 25  retirement_age         int64  \n",
      " 26  birth_year             int64  \n",
      " 27  birth_month            int64  \n",
      " 28  gender                 object \n",
      " 29  address                object \n",
      " 30  latitude               float64\n",
      " 31  longitude              float64\n",
      " 32  per_capita_income      object \n",
      " 33  yearly_income          object \n",
      " 34  total_debt             object \n",
      " 35  credit_score           int64  \n",
      " 36  num_credit_cards       int64  \n",
      " 37  description            object \n",
      "dtypes: float64(3), int64(15), object(20)\n",
      "memory usage: 3.8+ GB\n",
      "None\n",
      "id                              0\n",
      "date                            0\n",
      "client_id                       0\n",
      "card_id                         0\n",
      "amount                          0\n",
      "use_chip                        0\n",
      "merchant_id                     0\n",
      "merchant_city                   0\n",
      "merchant_state            1563700\n",
      "zip                       1652706\n",
      "mcc                             0\n",
      "errors                   13094522\n",
      "isFraud                   4390952\n",
      "card_brand                      0\n",
      "card_type                       0\n",
      "card_number                     0\n",
      "expires                         0\n",
      "cvv                             0\n",
      "has_chip                        0\n",
      "num_cards_issued                0\n",
      "credit_limit                    0\n",
      "acct_open_date                  0\n",
      "year_pin_last_changed           0\n",
      "card_on_dark_web                0\n",
      "current_age                     0\n",
      "retirement_age                  0\n",
      "birth_year                      0\n",
      "birth_month                     0\n",
      "gender                          0\n",
      "address                         0\n",
      "latitude                        0\n",
      "longitude                       0\n",
      "per_capita_income               0\n",
      "yearly_income                   0\n",
      "total_debt                      0\n",
      "credit_score                    0\n",
      "num_credit_cards                0\n",
      "description                     0\n",
      "dtype: int64\n",
      "        id                 date  client_id  card_id   amount  \\\n",
      "0  7475327  2010-01-01 00:01:00       1556     2972  $-77.00   \n",
      "1  7475328  2010-01-01 00:02:00        561     4575   $14.57   \n",
      "2  7475329  2010-01-01 00:02:00       1129      102   $80.00   \n",
      "3  7475331  2010-01-01 00:05:00        430     2860  $200.00   \n",
      "4  7475332  2010-01-01 00:06:00        848     3915   $46.41   \n",
      "\n",
      "            use_chip  merchant_id merchant_city merchant_state      zip  ...  \\\n",
      "0  Swipe Transaction        59935        Beulah             ND  58523.0  ...   \n",
      "1  Swipe Transaction        67570    Bettendorf             IA  52722.0  ...   \n",
      "2  Swipe Transaction        27092         Vista             CA  92084.0  ...   \n",
      "3  Swipe Transaction        27092   Crown Point             IN  46307.0  ...   \n",
      "4  Swipe Transaction        13051       Harwood             MD  20776.0  ...   \n",
      "\n",
      "   gender                   address latitude longitude per_capita_income  \\\n",
      "0  Female  594 Mountain View Street    46.80   -100.76            $23679   \n",
      "1    Male           604 Pine Street    40.80    -91.12            $18076   \n",
      "2    Male          2379 Forest Lane    33.18   -117.29            $16894   \n",
      "3  Female        903 Hill Boulevard    41.42    -87.35            $26168   \n",
      "4    Male           166 River Drive    38.86    -76.60            $33529   \n",
      "\n",
      "   yearly_income total_debt  credit_score num_credit_cards  \\\n",
      "0         $48277    $110153           740                4   \n",
      "1         $36853    $112139           834                5   \n",
      "2         $34449     $36540           686                3   \n",
      "3         $53350    $128676           685                5   \n",
      "4         $68362     $96182           711                2   \n",
      "\n",
      "                             description  \n",
      "0              Miscellaneous Food Stores  \n",
      "1                      Department Stores  \n",
      "2                         Money Transfer  \n",
      "3                         Money Transfer  \n",
      "4  Drinking Places (Alcoholic Beverages)  \n",
      "\n",
      "[5 rows x 38 columns]\n",
      "card_brand    4\n",
      "card_type     3\n",
      "gender        2\n",
      "isFraud       2\n",
      "dtype: int64\n"
     ]
    }
   ],
   "execution_count": 62
  },
  {
   "metadata": {
    "ExecuteTime": {
     "end_time": "2024-11-20T09:32:28.758971Z",
     "start_time": "2024-11-20T09:32:26.513473Z"
    }
   },
   "cell_type": "code",
   "source": [
    "transactions.fillna({'merchant_state':'Unknown'}, inplace=True)\n",
    "transactions.fillna({'zip':'Unknown'}, inplace=True)\n",
    "transactions.fillna({'errors':'No Error'}, inplace=True)"
   ],
   "id": "5d2fafe73ce91dfd",
   "outputs": [],
   "execution_count": 63
  },
  {
   "metadata": {},
   "cell_type": "markdown",
   "source": "Splitting train and test dataset based on available fraud labels",
   "id": "3d3a71aa77a30286"
  },
  {
   "metadata": {
    "ExecuteTime": {
     "end_time": "2024-11-20T09:33:20.893336Z",
     "start_time": "2024-11-20T09:32:28.826472Z"
    }
   },
   "cell_type": "code",
   "source": [
    "# Split the dataset\n",
    "train_data = transactions[transactions['isFraud'].notna()]\n",
    "test_data = transactions[transactions['isFraud'].isna()]\n",
    "\n",
    "# Convert 'isFraud' in train_data to numeric\n",
    "train_data.loc[:,'isFraud'] = train_data.loc[:,'isFraud'].map({'Yes':1,'No':0}).astype(int)\n",
    "\n",
    "# Drop 'isFraud' from test_data since it's unavailable\n",
    "test_data.drop(columns=['isFraud'], inplace=True)\n",
    "\n",
    "# Verify splits\n",
    "print(f\"Train shape: {train_data.shape}\")\n",
    "print(f\"Test shape: {test_data.shape}\")"
   ],
   "id": "2f99a869b1f4fbc1",
   "outputs": [
    {
     "name": "stdout",
     "output_type": "stream",
     "text": [
      "Train shape: (8914963, 38)\n",
      "Test shape: (4390952, 37)\n"
     ]
    },
    {
     "name": "stderr",
     "output_type": "stream",
     "text": [
      "C:\\Users\\kvanveen1\\AppData\\Local\\Temp\\ipykernel_10776\\160459166.py:9: SettingWithCopyWarning: \n",
      "A value is trying to be set on a copy of a slice from a DataFrame\n",
      "\n",
      "See the caveats in the documentation: https://pandas.pydata.org/pandas-docs/stable/user_guide/indexing.html#returning-a-view-versus-a-copy\n",
      "  test_data.drop(columns=['isFraud'], inplace=True)\n"
     ]
    }
   ],
   "execution_count": 64
  },
  {
   "metadata": {
    "ExecuteTime": {
     "end_time": "2024-11-20T09:35:59.894109Z",
     "start_time": "2024-11-20T09:33:21.522832Z"
    }
   },
   "cell_type": "code",
   "source": [
    "train_data.to_csv(\"train_data.csv\", index=False)\n",
    "test_data.to_csv(\"test_data.csv\", index=False)"
   ],
   "id": "b7a8fc5dc557813e",
   "outputs": [],
   "execution_count": 65
  },
  {
   "metadata": {},
   "cell_type": "markdown",
   "source": "Fix data types",
   "id": "b30ecffa7d53079f"
  },
  {
   "metadata": {
    "ExecuteTime": {
     "end_time": "2024-11-20T09:39:47.709801Z",
     "start_time": "2024-11-20T09:36:00.225164Z"
    }
   },
   "cell_type": "code",
   "source": [
    "train_data = pd.read_csv(\"train_data.csv\")\n",
    "test_data = pd.read_csv(\"test_data.csv\")\n",
    "\n",
    "monetary_cols = ['amount', 'credit_limit', 'per_capita_income', 'yearly_income', 'total_debt']\n",
    "for col in monetary_cols:\n",
    "    train_data.loc[:,col] = train_data.loc[:,col].replace('[\\$,]', '', regex=True).astype(float)\n",
    "    test_data.loc[:,col] = test_data.loc[:,col].replace('[\\$,]', '', regex=True).astype(float)"
   ],
   "id": "b6015f80159a39b0",
   "outputs": [
    {
     "name": "stderr",
     "output_type": "stream",
     "text": [
      "<>:6: SyntaxWarning: invalid escape sequence '\\$'\n",
      "<>:7: SyntaxWarning: invalid escape sequence '\\$'\n",
      "<>:6: SyntaxWarning: invalid escape sequence '\\$'\n",
      "<>:7: SyntaxWarning: invalid escape sequence '\\$'\n",
      "C:\\Users\\kvanveen1\\AppData\\Local\\Temp\\ipykernel_10776\\2251030278.py:6: SyntaxWarning: invalid escape sequence '\\$'\n",
      "  train_data.loc[:,col] = train_data.loc[:,col].replace('[\\$,]', '', regex=True).astype(float)\n",
      "C:\\Users\\kvanveen1\\AppData\\Local\\Temp\\ipykernel_10776\\2251030278.py:7: SyntaxWarning: invalid escape sequence '\\$'\n",
      "  test_data.loc[:,col] = test_data.loc[:,col].replace('[\\$,]', '', regex=True).astype(float)\n"
     ]
    }
   ],
   "execution_count": 66
  },
  {
   "metadata": {
    "ExecuteTime": {
     "end_time": "2024-11-20T09:40:00.412770Z",
     "start_time": "2024-11-20T09:39:48.474427Z"
    }
   },
   "cell_type": "code",
   "source": [
    "train_data['date'] = pd.to_datetime(train_data['date'])\n",
    "test_data['date'] = pd.to_datetime(test_data['date'])"
   ],
   "id": "59ac6853bdea2d64",
   "outputs": [],
   "execution_count": 67
  },
  {
   "metadata": {
    "ExecuteTime": {
     "end_time": "2024-11-20T09:40:07.311890Z",
     "start_time": "2024-11-20T09:40:00.422790Z"
    }
   },
   "cell_type": "code",
   "source": [
    "categorical_cols = ['use_chip', 'merchant_city', 'merchant_state', 'card_brand', 'card_type', 'gender']\n",
    "for col in categorical_cols:\n",
    "    train_data.loc[:,col] = train_data.loc[:,col].astype('category')\n",
    "    test_data.loc[:,col] = test_data.loc[:,col].astype('category')"
   ],
   "id": "33965fc1c44321b4",
   "outputs": [],
   "execution_count": 68
  },
  {
   "metadata": {
    "ExecuteTime": {
     "end_time": "2024-11-20T09:40:14.087732Z",
     "start_time": "2024-11-20T09:40:07.359145Z"
    }
   },
   "cell_type": "code",
   "source": [
    "# Standardize and map for binary encoding\n",
    "binary_cols = ['has_chip', 'card_on_dark_web']\n",
    "\n",
    "for col in binary_cols:\n",
    "    train_data[col] = train_data[col].str.upper().map({'YES': 1, 'NO': 0}).astype(int)\n",
    "    test_data[col] = test_data[col].str.upper().map({'YES': 1, 'NO': 0}).astype(int)"
   ],
   "id": "cb11806460def626",
   "outputs": [],
   "execution_count": 69
  },
  {
   "metadata": {},
   "cell_type": "markdown",
   "source": "Feature engineering",
   "id": "347b1d8986a09d9d"
  },
  {
   "metadata": {
    "ExecuteTime": {
     "end_time": "2024-11-20T09:40:16.333588Z",
     "start_time": "2024-11-20T09:40:14.145463Z"
    }
   },
   "cell_type": "code",
   "source": [
    "# Extract temporal features\n",
    "train_data['year'] = train_data['date'].dt.year\n",
    "train_data['month'] = train_data['date'].dt.month\n",
    "train_data['day'] = train_data['date'].dt.day\n",
    "train_data['hour'] = train_data['date'].dt.hour\n",
    "train_data['day_of_week'] = train_data['date'].dt.dayofweek\n",
    "\n",
    "test_data['year'] = test_data['date'].dt.year\n",
    "test_data['month'] = test_data['date'].dt.month\n",
    "test_data['day'] = test_data['date'].dt.day\n",
    "test_data['hour'] = test_data['date'].dt.hour\n",
    "test_data['day_of_week'] = test_data['date'].dt.dayofweek"
   ],
   "id": "f92be87ada91c529",
   "outputs": [],
   "execution_count": 70
  },
  {
   "metadata": {
    "ExecuteTime": {
     "end_time": "2024-11-20T09:40:16.933265Z",
     "start_time": "2024-11-20T09:40:16.359340Z"
    }
   },
   "cell_type": "code",
   "source": [
    "# Create derived features\n",
    "train_data['debt_to_income_ratio'] = train_data['total_debt'] / train_data['yearly_income']\n",
    "\n",
    "test_data['debt_to_income_ratio'] = test_data['total_debt'] / test_data['yearly_income']"
   ],
   "id": "1cdad1c016f2843a",
   "outputs": [],
   "execution_count": 71
  },
  {
   "metadata": {
    "ExecuteTime": {
     "end_time": "2024-11-20T09:40:17.642205Z",
     "start_time": "2024-11-20T09:40:16.966649Z"
    }
   },
   "cell_type": "code",
   "source": [
    "# Transactions per client\n",
    "train_data['transactions_per_client'] = train_data.groupby('client_id')['id'].transform('count')\n",
    "test_data['transactions_per_client'] = test_data.groupby('client_id')['id'].transform('count')"
   ],
   "id": "2e07da4f89e0a74b",
   "outputs": [],
   "execution_count": 72
  },
  {
   "metadata": {
    "ExecuteTime": {
     "end_time": "2024-11-20T09:53:41.761393Z",
     "start_time": "2024-11-20T09:47:12.385956Z"
    }
   },
   "cell_type": "code",
   "source": [
    "train_data.to_csv(\"cleaned_train.csv\", index=False)\n",
    "test_data.to_csv(\"cleaned_test.csv\", index=False)\n",
    "print(\"Dataset cleaned and saved.\")"
   ],
   "id": "4cb0f96fae5fee01",
   "outputs": [
    {
     "name": "stdout",
     "output_type": "stream",
     "text": [
      "Dataset cleaned and saved.\n"
     ]
    }
   ],
   "execution_count": 74
  }
 ],
 "metadata": {
  "kernelspec": {
   "display_name": "Python 3",
   "language": "python",
   "name": "python3"
  },
  "language_info": {
   "codemirror_mode": {
    "name": "ipython",
    "version": 2
   },
   "file_extension": ".py",
   "mimetype": "text/x-python",
   "name": "python",
   "nbconvert_exporter": "python",
   "pygments_lexer": "ipython2",
   "version": "2.7.6"
  }
 },
 "nbformat": 4,
 "nbformat_minor": 5
}
