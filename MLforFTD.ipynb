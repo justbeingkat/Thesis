{
 "cells": [
  {
   "cell_type": "code",
   "id": "initial_id",
   "metadata": {
    "collapsed": true,
    "ExecuteTime": {
     "end_time": "2024-11-25T07:58:17.057296Z",
     "start_time": "2024-11-25T07:58:07.262972Z"
    }
   },
   "source": [
    "from sklearn.model_selection import GroupKFold\n",
    "from sklearn.metrics import roc_auc_score\n",
    "import numpy as np\n",
    "import pandas as pd\n",
    "from sklearn.ensemble import RandomForestClassifier\n",
    "import gc\n",
    "gc.collect()"
   ],
   "outputs": [
    {
     "data": {
      "text/plain": [
       "0"
      ]
     },
     "execution_count": 1,
     "metadata": {},
     "output_type": "execute_result"
    }
   ],
   "execution_count": 1
  },
  {
   "metadata": {
    "ExecuteTime": {
     "end_time": "2024-11-25T08:01:01.543067Z",
     "start_time": "2024-11-25T07:58:17.076475Z"
    }
   },
   "cell_type": "code",
   "source": [
    "test_data = pd.read_csv('test_data_EDA.csv',index_col=0)\n",
    "train_data = pd.read_csv('train_data_EDA.csv',index_col=0)"
   ],
   "id": "2b96b4385ad87752",
   "outputs": [],
   "execution_count": 2
  },
  {
   "metadata": {
    "ExecuteTime": {
     "end_time": "2024-11-25T11:11:04.750923Z",
     "start_time": "2024-11-25T08:01:02.535156Z"
    }
   },
   "cell_type": "code",
   "source": [
    "# Initialize GroupKFold with 5 splits\n",
    "skf = GroupKFold(n_splits=5)\n",
    "\n",
    "# Initialize arrays for storing out-of-fold predictions\n",
    "oof_preds = np.zeros(len(train_data))  # Out-of-fold predictions for validation\n",
    "\n",
    "# List of features to be used in training (make sure all categorical features are encoded)\n",
    "features = [col for col in train_data.columns if col not in ['gender','address','description','expires','acct_open_date','card_brand','card_type','errors','zip','merchant_state','merchant_city','use_chip','date','isFraud']]\n",
    "\n",
    "# Target variable\n",
    "target = 'isFraud'\n",
    "\n",
    "# Group KFold loop for training and validation\n",
    "for train_idx, val_idx in skf.split(train_data, train_data[target], groups=train_data['client_id']):\n",
    "    # Split into training and validation sets\n",
    "    X_train, X_val = train_data.iloc[train_idx][features], train_data.iloc[val_idx][features]\n",
    "    y_train, y_val = train_data.iloc[train_idx][target], train_data.iloc[val_idx][target]\n",
    "\n",
    "    # Initialize your model (e.g., Random Forest, XGBoost, or others)\n",
    "    model = RandomForestClassifier(n_estimators=100, random_state=42)\n",
    "\n",
    "    # Fit the model on the training data\n",
    "    model.fit(X_train, y_train)\n",
    "\n",
    "    # Predict on validation data\n",
    "    oof_preds[val_idx] = model.predict_proba(X_val)[:, 1]\n",
    "\n",
    "    del X_train, X_val, y_train, y_val\n",
    "\n",
    "# Evaluate ROC-AUC on out-of-fold predictions\n",
    "roc_auc = roc_auc_score(train_data[target], oof_preds)\n",
    "print(f\"Out-of-Fold ROC-AUC: {roc_auc}\")\n",
    "\n",
    "# Save the test set predictions for later analysis in the XAI and causal discovery\n",
    "test_preds = model.predict_proba(test_data[features])[:, 1]\n",
    "test_data['predictions_RF'] = test_preds"
   ],
   "id": "c6d132ab8419f904",
   "outputs": [
    {
     "name": "stdout",
     "output_type": "stream",
     "text": [
      "Out-of-Fold ROC-AUC: 0.9730428651365423\n"
     ]
    }
   ],
   "execution_count": 3
  },
  {
   "metadata": {
    "ExecuteTime": {
     "end_time": "2024-11-25T11:14:28.562175Z",
     "start_time": "2024-11-25T11:14:16.491714Z"
    }
   },
   "cell_type": "code",
   "source": [
    "df = pd.DataFrame(oof_preds)\n",
    "df.to_csv('oof_preds_rf.csv')\n",
    "df = pd.DataFrame(test_preds)\n",
    "df.to_csv('test_preds_rf.csv')"
   ],
   "id": "a38dd01eefad5e8",
   "outputs": [],
   "execution_count": 6
  }
 ],
 "metadata": {
  "kernelspec": {
   "display_name": "Python 3",
   "language": "python",
   "name": "python3"
  },
  "language_info": {
   "codemirror_mode": {
    "name": "ipython",
    "version": 2
   },
   "file_extension": ".py",
   "mimetype": "text/x-python",
   "name": "python",
   "nbconvert_exporter": "python",
   "pygments_lexer": "ipython2",
   "version": "2.7.6"
  }
 },
 "nbformat": 4,
 "nbformat_minor": 5
}
