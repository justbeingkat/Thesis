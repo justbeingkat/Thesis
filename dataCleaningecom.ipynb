{
 "cells": [
  {
   "metadata": {},
   "cell_type": "markdown",
   "source": "Load data",
   "id": "d2ea7234a3b52b53"
  },
  {
   "metadata": {
    "collapsed": true,
    "ExecuteTime": {
     "end_time": "2024-11-20T07:59:54.100682Z",
     "start_time": "2024-11-20T07:59:51.251643Z"
    }
   },
   "cell_type": "code",
   "source": "import pandas as pd",
   "id": "initial_id",
   "outputs": [],
   "execution_count": 2
  },
  {
   "metadata": {
    "ExecuteTime": {
     "end_time": "2024-11-20T08:00:08.279250Z",
     "start_time": "2024-11-20T08:00:07.983969Z"
    }
   },
   "cell_type": "code",
   "source": [
    "# Load CSV files\n",
    "transactions = pd.read_csv(\"Fraud_Data.csv\")\n",
    "IpAddress = pd.read_csv(\"IpAddress_to_Country.csv\")"
   ],
   "id": "3f355f9346086db8",
   "outputs": [],
   "execution_count": 4
  },
  {
   "metadata": {},
   "cell_type": "markdown",
   "source": "Merge datasets",
   "id": "df9fcf6cdc17488a"
  },
  {
   "metadata": {
    "ExecuteTime": {
     "end_time": "2024-11-20T08:09:00.576551Z",
     "start_time": "2024-11-20T08:07:39.477049Z"
    }
   },
   "cell_type": "code",
   "source": [
    "# Ensure numeric columns\n",
    "transactions['ip_address'] = transactions['ip_address'].astype(float)\n",
    "IpAddress['lower_bound_ip_address'] = IpAddress['lower_bound_ip_address'].astype(float)\n",
    "IpAddress['upper_bound_ip_address'] = IpAddress['upper_bound_ip_address'].astype(float)\n",
    "\n",
    "# Perform range join using a loop (slower but functional for small data)\n",
    "def map_country(ip_address):\n",
    "    match = IpAddress[\n",
    "        (ip_address >= IpAddress['lower_bound_ip_address']) &\n",
    "        (ip_address <= IpAddress['upper_bound_ip_address'])\n",
    "    ]\n",
    "    return match['country'].iloc[0] if not match.empty else None\n",
    "\n",
    "# Map country for each user\n",
    "transactions['country'] = transactions['ip_address'].apply(map_country)\n",
    "\n",
    "# Save merged data\n",
    "transactions.to_csv(\"transactionsMerged.csv\", index=False)\n",
    "\n",
    "# Display a sample of the merged data\n",
    "print(transactions.head())"
   ],
   "id": "daf9f1125947f8d8",
   "outputs": [
    {
     "name": "stdout",
     "output_type": "stream",
     "text": [
      "   user_id          signup_time        purchase_time  purchase_value  \\\n",
      "0    22058  2015-02-24 22:55:49  2015-04-18 02:47:11              34   \n",
      "1   333320  2015-06-07 20:39:50  2015-06-08 01:38:54              16   \n",
      "2     1359  2015-01-01 18:52:44  2015-01-01 18:52:45              15   \n",
      "3   150084  2015-04-28 21:13:25  2015-05-04 13:54:50              44   \n",
      "4   221365  2015-07-21 07:09:52  2015-09-09 18:40:53              39   \n",
      "\n",
      "       device_id source browser sex  age    ip_address  class        country  \n",
      "0  QVPSPJUOCKZAR    SEO  Chrome   M   39  7.327584e+08      0          Japan  \n",
      "1  EOGFQPIZPYXFZ    Ads  Chrome   F   53  3.503114e+08      0  United States  \n",
      "2  YSSKYOSJHPPLJ    SEO   Opera   M   53  2.621474e+09      1  United States  \n",
      "3  ATGTXKYKUDUQN    SEO  Safari   M   41  3.840542e+09      0           None  \n",
      "4  NAUITBZFJKHWW    Ads  Safari   M   45  4.155831e+08      0  United States  \n"
     ]
    }
   ],
   "execution_count": 6
  },
  {
   "metadata": {},
   "cell_type": "markdown",
   "source": "Investigation data summary",
   "id": "169ff1b822289c2"
  },
  {
   "metadata": {
    "ExecuteTime": {
     "end_time": "2024-11-20T08:21:17.217179Z",
     "start_time": "2024-11-20T08:21:17.087457Z"
    }
   },
   "cell_type": "code",
   "source": [
    "# Check general info\n",
    "print(transactions.info())\n",
    "\n",
    "# Check for missing values\n",
    "print(transactions.isnull().sum())"
   ],
   "id": "9f5d32e5ac290530",
   "outputs": [
    {
     "name": "stdout",
     "output_type": "stream",
     "text": [
      "<class 'pandas.core.frame.DataFrame'>\n",
      "RangeIndex: 151112 entries, 0 to 151111\n",
      "Data columns (total 12 columns):\n",
      " #   Column          Non-Null Count   Dtype  \n",
      "---  ------          --------------   -----  \n",
      " 0   user_id         151112 non-null  int64  \n",
      " 1   signup_time     151112 non-null  object \n",
      " 2   purchase_time   151112 non-null  object \n",
      " 3   purchase_value  151112 non-null  int64  \n",
      " 4   device_id       151112 non-null  object \n",
      " 5   source          151112 non-null  object \n",
      " 6   browser         151112 non-null  object \n",
      " 7   sex             151112 non-null  object \n",
      " 8   age             151112 non-null  int64  \n",
      " 9   ip_address      151112 non-null  float64\n",
      " 10  class           151112 non-null  int64  \n",
      " 11  country         129146 non-null  object \n",
      "dtypes: float64(1), int64(4), object(7)\n",
      "memory usage: 13.8+ MB\n",
      "None\n",
      "user_id               0\n",
      "signup_time           0\n",
      "purchase_time         0\n",
      "purchase_value        0\n",
      "device_id             0\n",
      "source                0\n",
      "browser               0\n",
      "sex                   0\n",
      "age                   0\n",
      "ip_address            0\n",
      "class                 0\n",
      "country           21966\n",
      "dtype: int64\n"
     ]
    }
   ],
   "execution_count": 8
  },
  {
   "metadata": {
    "ExecuteTime": {
     "end_time": "2024-11-20T08:21:37.825487Z",
     "start_time": "2024-11-20T08:21:37.785923Z"
    }
   },
   "cell_type": "code",
   "source": "transactions['country'].fillna(\"Unknown\", inplace=True)",
   "id": "9f5e3562147939a2",
   "outputs": [
    {
     "name": "stderr",
     "output_type": "stream",
     "text": [
      "C:\\Users\\kvanveen1\\AppData\\Local\\Temp\\ipykernel_21900\\3600612454.py:1: FutureWarning: A value is trying to be set on a copy of a DataFrame or Series through chained assignment using an inplace method.\n",
      "The behavior will change in pandas 3.0. This inplace method will never work because the intermediate object on which we are setting values always behaves as a copy.\n",
      "\n",
      "For example, when doing 'df[col].method(value, inplace=True)', try using 'df.method({col: value}, inplace=True)' or df[col] = df[col].method(value) instead, to perform the operation inplace on the original object.\n",
      "\n",
      "\n",
      "  transactions['country'].fillna(\"Unknown\", inplace=True)\n"
     ]
    }
   ],
   "execution_count": 9
  }
 ],
 "metadata": {
  "kernelspec": {
   "display_name": "Python 3",
   "language": "python",
   "name": "python3"
  },
  "language_info": {
   "codemirror_mode": {
    "name": "ipython",
    "version": 2
   },
   "file_extension": ".py",
   "mimetype": "text/x-python",
   "name": "python",
   "nbconvert_exporter": "python",
   "pygments_lexer": "ipython2",
   "version": "2.7.6"
  }
 },
 "nbformat": 4,
 "nbformat_minor": 5
}
